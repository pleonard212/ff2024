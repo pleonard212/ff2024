{
 "cells": [
  {
   "cell_type": "markdown",
   "id": "608e5087",
   "metadata": {},
   "source": [
    "# Build a list of images to analyze"
   ]
  },
  {
   "cell_type": "code",
   "execution_count": 1,
   "id": "43bdb3be",
   "metadata": {},
   "outputs": [
    {
     "name": "stdout",
     "output_type": "stream",
     "text": [
      "Photos found: 32765\n"
     ]
    }
   ],
   "source": [
    "from pathlib import Path\n",
    "photos_path = Path(\"images/\")\n",
    "photos_files = list(photos_path.glob(\"*.jpg\"))\n",
    "print(f\"Photos found: {len(photos_files)}\")"
   ]
  },
  {
   "cell_type": "markdown",
   "id": "6fd70b6a",
   "metadata": {},
   "source": [
    "# Define function to compute embeddings"
   ]
  },
  {
   "cell_type": "code",
   "execution_count": 2,
   "id": "832db2ef",
   "metadata": {},
   "outputs": [
    {
     "name": "stdout",
     "output_type": "stream",
     "text": [
      "Using device cuda\n"
     ]
    }
   ],
   "source": [
    "import clip\n",
    "import torch\n",
    "from PIL import Image\n",
    "#device = \"mps\" if torch.backends.mps.is_available() else \"cpu\"\n",
    "device = \"cuda\" if torch.cuda.is_available() else \"cpu\"\n",
    "print(\"Using device \" + device)\n",
    "model, preprocess = clip.load(\"ViT-B/32\", device=device)\n",
    "\n",
    "def compute_embedding(photos_batch):\n",
    "    # Load all the photos from the files\n",
    "    photos = [Image.open(photo_file) for photo_file in photos_batch]\n",
    "    \n",
    "    # Preprocess all photos\n",
    "    photos_preprocessed = torch.stack([preprocess(photo) for photo in photos]).to(device)\n",
    "\n",
    "    with torch.no_grad():\n",
    "        # Encode the photos batch to compute the feature vectors and normalize them\n",
    "        photos_features = model.encode_image(photos_preprocessed)\n",
    "        photos_features /= photos_features.norm(dim=-1, keepdim=True)\n",
    "\n",
    "    # Transfer the feature vectors back to the CPU and convert to numpy\n",
    "    return photos_features.cpu().numpy()"
   ]
  },
  {
   "cell_type": "code",
   "execution_count": null,
   "id": "eb68ec29",
   "metadata": {},
   "outputs": [
    {
     "name": "stdout",
     "output_type": "stream",
     "text": [
      "Processing batch 1 of 128\n",
      "Problem with batch 0\n",
      "Processing batch 2 of 128\n",
      "Problem with batch 1\n",
      "Processing batch 3 of 128\n",
      "Problem with batch 2\n",
      "Processing batch 4 of 128\n",
      "Problem with batch 3\n",
      "Processing batch 5 of 128\n",
      "Problem with batch 4\n",
      "Processing batch 6 of 128\n",
      "Problem with batch 5\n",
      "Processing batch 7 of 128\n",
      "Problem with batch 6\n",
      "Processing batch 8 of 128\n",
      "Problem with batch 7\n",
      "Processing batch 9 of 128\n",
      "Problem with batch 8\n",
      "Processing batch 10 of 128\n",
      "Problem with batch 9\n",
      "Processing batch 11 of 128\n",
      "Problem with batch 10\n",
      "Processing batch 12 of 128\n",
      "Problem with batch 11\n",
      "Processing batch 13 of 128\n",
      "Problem with batch 12\n",
      "Processing batch 14 of 128\n",
      "Problem with batch 13\n",
      "Processing batch 15 of 128\n",
      "Problem with batch 14\n",
      "Processing batch 16 of 128\n",
      "Problem with batch 15\n",
      "Processing batch 17 of 128\n",
      "Problem with batch 16\n",
      "Processing batch 18 of 128\n",
      "Problem with batch 17\n",
      "Processing batch 19 of 128\n",
      "Problem with batch 18\n",
      "Processing batch 20 of 128\n",
      "Problem with batch 19\n",
      "Processing batch 21 of 128\n",
      "Problem with batch 20\n",
      "Processing batch 22 of 128\n",
      "Problem with batch 21\n",
      "Processing batch 23 of 128\n",
      "Problem with batch 22\n",
      "Processing batch 24 of 128\n",
      "Problem with batch 23\n",
      "Processing batch 25 of 128\n",
      "Problem with batch 24\n",
      "Processing batch 26 of 128\n",
      "Problem with batch 25\n",
      "Processing batch 27 of 128\n",
      "Problem with batch 26\n",
      "Processing batch 28 of 128\n",
      "Problem with batch 27\n",
      "Processing batch 29 of 128\n",
      "Problem with batch 28\n",
      "Processing batch 30 of 128\n",
      "Problem with batch 29\n",
      "Processing batch 31 of 128\n"
     ]
    }
   ],
   "source": [
    "import math\n",
    "import numpy as np\n",
    "import pandas as pd\n",
    "from pathlib import Path\n",
    "\n",
    "batch_size = 256\n",
    "\n",
    "# Save the resulting embeddings here:\n",
    "features_path = Path(\"features/\")\n",
    "\n",
    "# Compute the rigt number of batches:\n",
    "batches = math.ceil(len(photos_files) / batch_size)\n",
    "\n",
    "# Process each batch\n",
    "for i in range(batches):\n",
    "    print(f\"Processing batch {i+1} of {batches}\")\n",
    "\n",
    "    batch_ids_path = features_path / f\"{i:010d}.csv\"\n",
    "    batch_features_path = features_path / f\"{i:010d}.npy\"\n",
    "    \n",
    "    # Only do the processing if the batch wasn't processed yet\n",
    "    if not batch_features_path.exists():\n",
    "        try:\n",
    "            # Select the photos for the current batch\n",
    "            batch_files = photos_files[i*batch_size : (i+1)*batch_size]\n",
    "\n",
    "            # Compute the features and save to a numpy file\n",
    "            batch_features = compute_embedding(batch_files)\n",
    "            np.save(batch_features_path, batch_features)\n",
    "\n",
    "            # Save the photo IDs to a CSV file\n",
    "            photo_ids = [photo_file.name.replace(\".jpg\",\"\") for photo_file in batch_files]\n",
    "            photo_ids_data = pd.DataFrame(photo_ids, columns=['photo_id'])\n",
    "            photo_ids_data.merge(df, how='left', on='photo_id')\n",
    "            photo_ids_data.to_csv(batch_ids_path, index=False)\n",
    "        except:\n",
    "            # Error logging - possibilities include corrupt jpg, wrong format file, etc\n",
    "            print(f'Problem with batch {i}')"
   ]
  },
  {
   "cell_type": "markdown",
   "id": "c6c2a066",
   "metadata": {},
   "source": [
    "# Produce numpy and csv results"
   ]
  },
  {
   "cell_type": "code",
   "execution_count": null,
   "id": "0473a526",
   "metadata": {},
   "outputs": [],
   "source": [
    "import numpy as np\n",
    "import pandas as pd\n",
    "\n",
    "# Load all of the embeddings we saved to disk\n",
    "features_list = [np.load(features_file) for features_file in sorted(features_path.glob(\"*.npy\"))]\n",
    "\n",
    "# Store all of the embeddings in one big file\n",
    "features = np.concatenate(features_list)\n",
    "np.save(features_path / \"features.npy\", features)\n",
    "\n",
    "# Write the metadata file\n",
    "photo_ids = pd.concat([pd.read_csv(ids_file) for ids_file in sorted(features_path.glob(\"*.csv\"))])\n",
    "photo_ids.to_csv(features_path / \"photo_ids.csv\", index=False)"
   ]
  }
 ],
 "metadata": {
  "kernelspec": {
   "display_name": "clipsearch",
   "language": "python",
   "name": "clipsearch"
  },
  "language_info": {
   "codemirror_mode": {
    "name": "ipython",
    "version": 3
   },
   "file_extension": ".py",
   "mimetype": "text/x-python",
   "name": "python",
   "nbconvert_exporter": "python",
   "pygments_lexer": "ipython3",
   "version": "3.10.15"
  }
 },
 "nbformat": 4,
 "nbformat_minor": 5
}
